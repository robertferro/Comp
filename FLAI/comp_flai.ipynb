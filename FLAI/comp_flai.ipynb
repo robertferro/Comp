{
  "nbformat": 4,
  "nbformat_minor": 0,
  "metadata": {
    "kernelspec": {
      "display_name": "Python 3",
      "language": "python",
      "name": "python3"
    },
    "language_info": {
      "codemirror_mode": {
        "name": "ipython",
        "version": 3
      },
      "file_extension": ".py",
      "mimetype": "text/x-python",
      "name": "python",
      "nbconvert_exporter": "python",
      "pygments_lexer": "ipython3",
      "version": "3.8.3"
    },
    "colab": {
      "name": "comp_flai-Copy1.ipynb",
      "provenance": [],
      "collapsed_sections": []
    }
  },
  "cells": [
    {
      "cell_type": "markdown",
      "metadata": {
        "id": "98l0DsnrEHGf"
      },
      "source": [
        "# Objetivo:\n",
        "\n",
        "- Prever a coluna cliente\n",
        "\n",
        "Métrica: F1-score\n",
        "\n",
        "\n",
        "Neste desafio separei os dados de treino, em treino e teste e validação."
      ]
    },
    {
      "cell_type": "code",
      "metadata": {
        "id": "mDuAoheK9cKx"
      },
      "source": [
        "import pandas as pd\n",
        "import numpy as np\n",
        "import seaborn as sns\n",
        "import matplotlib.pyplot as plt"
      ],
      "execution_count": 1,
      "outputs": []
    },
    {
      "cell_type": "code",
      "metadata": {
        "colab": {
          "base_uri": "https://localhost:8080/"
        },
        "id": "TgsfF7ZW9gUS",
        "outputId": "a631b819-887e-4bf0-d376-dd6430914d7a"
      },
      "source": [
        "from google.colab import drive\n",
        "drive.mount('/content/drive')"
      ],
      "execution_count": 2,
      "outputs": [
        {
          "output_type": "stream",
          "text": [
            "Drive already mounted at /content/drive; to attempt to forcibly remount, call drive.mount(\"/content/drive\", force_remount=True).\n"
          ],
          "name": "stdout"
        }
      ]
    },
    {
      "cell_type": "code",
      "metadata": {
        "colab": {
          "base_uri": "https://localhost:8080/",
          "height": 292
        },
        "id": "BGRxbW8z9cK9",
        "outputId": "90727d5f-c8d2-4d05-a363-8a3d74653c8a"
      },
      "source": [
        "train = pd.read_csv('/content/drive/MyDrive/comp_FLAI/treino.csv')\n",
        "submission = pd.read_csv('/content/drive/MyDrive/comp_FLAI/teste.csv')\n",
        "\n",
        "train.head()"
      ],
      "execution_count": 3,
      "outputs": [
        {
          "output_type": "execute_result",
          "data": {
            "text/html": [
              "<div>\n",
              "<style scoped>\n",
              "    .dataframe tbody tr th:only-of-type {\n",
              "        vertical-align: middle;\n",
              "    }\n",
              "\n",
              "    .dataframe tbody tr th {\n",
              "        vertical-align: top;\n",
              "    }\n",
              "\n",
              "    .dataframe thead th {\n",
              "        text-align: right;\n",
              "    }\n",
              "</style>\n",
              "<table border=\"1\" class=\"dataframe\">\n",
              "  <thead>\n",
              "    <tr style=\"text-align: right;\">\n",
              "      <th></th>\n",
              "      <th>gender</th>\n",
              "      <th>SeniorCitizen</th>\n",
              "      <th>Partner</th>\n",
              "      <th>Dependents</th>\n",
              "      <th>tenure</th>\n",
              "      <th>PhoneService</th>\n",
              "      <th>MultipleLines</th>\n",
              "      <th>InternetService</th>\n",
              "      <th>OnlineSecurity</th>\n",
              "      <th>OnlineBackup</th>\n",
              "      <th>DeviceProtection</th>\n",
              "      <th>TechSupport</th>\n",
              "      <th>StreamingTV</th>\n",
              "      <th>StreamingMovies</th>\n",
              "      <th>Contract</th>\n",
              "      <th>PaperlessBilling</th>\n",
              "      <th>PaymentMethod</th>\n",
              "      <th>Cliente</th>\n",
              "    </tr>\n",
              "  </thead>\n",
              "  <tbody>\n",
              "    <tr>\n",
              "      <th>0</th>\n",
              "      <td>Female</td>\n",
              "      <td>0</td>\n",
              "      <td>No</td>\n",
              "      <td>No</td>\n",
              "      <td>20</td>\n",
              "      <td>Yes</td>\n",
              "      <td>No</td>\n",
              "      <td>No</td>\n",
              "      <td>No internet service</td>\n",
              "      <td>No internet service</td>\n",
              "      <td>No internet service</td>\n",
              "      <td>No internet service</td>\n",
              "      <td>No internet service</td>\n",
              "      <td>No internet service</td>\n",
              "      <td>Two year</td>\n",
              "      <td>No</td>\n",
              "      <td>Mailed check</td>\n",
              "      <td>Normal</td>\n",
              "    </tr>\n",
              "    <tr>\n",
              "      <th>1</th>\n",
              "      <td>Female</td>\n",
              "      <td>0</td>\n",
              "      <td>Yes</td>\n",
              "      <td>Yes</td>\n",
              "      <td>59</td>\n",
              "      <td>Yes</td>\n",
              "      <td>Yes</td>\n",
              "      <td>DSL</td>\n",
              "      <td>Yes</td>\n",
              "      <td>Yes</td>\n",
              "      <td>No</td>\n",
              "      <td>Yes</td>\n",
              "      <td>No</td>\n",
              "      <td>No</td>\n",
              "      <td>One year</td>\n",
              "      <td>No</td>\n",
              "      <td>Mailed check</td>\n",
              "      <td>Premium</td>\n",
              "    </tr>\n",
              "    <tr>\n",
              "      <th>2</th>\n",
              "      <td>Female</td>\n",
              "      <td>0</td>\n",
              "      <td>Yes</td>\n",
              "      <td>Yes</td>\n",
              "      <td>68</td>\n",
              "      <td>No</td>\n",
              "      <td>No phone service</td>\n",
              "      <td>DSL</td>\n",
              "      <td>No</td>\n",
              "      <td>Yes</td>\n",
              "      <td>Yes</td>\n",
              "      <td>Yes</td>\n",
              "      <td>Yes</td>\n",
              "      <td>Yes</td>\n",
              "      <td>Two year</td>\n",
              "      <td>No</td>\n",
              "      <td>Credit card (automatic)</td>\n",
              "      <td>Premium</td>\n",
              "    </tr>\n",
              "    <tr>\n",
              "      <th>3</th>\n",
              "      <td>Female</td>\n",
              "      <td>0</td>\n",
              "      <td>No</td>\n",
              "      <td>Yes</td>\n",
              "      <td>35</td>\n",
              "      <td>Yes</td>\n",
              "      <td>Yes</td>\n",
              "      <td>DSL</td>\n",
              "      <td>No</td>\n",
              "      <td>No</td>\n",
              "      <td>No</td>\n",
              "      <td>No</td>\n",
              "      <td>No</td>\n",
              "      <td>No</td>\n",
              "      <td>Month-to-month</td>\n",
              "      <td>No</td>\n",
              "      <td>Mailed check</td>\n",
              "      <td>Premium</td>\n",
              "    </tr>\n",
              "    <tr>\n",
              "      <th>4</th>\n",
              "      <td>Male</td>\n",
              "      <td>1</td>\n",
              "      <td>No</td>\n",
              "      <td>No</td>\n",
              "      <td>1</td>\n",
              "      <td>Yes</td>\n",
              "      <td>No</td>\n",
              "      <td>DSL</td>\n",
              "      <td>No</td>\n",
              "      <td>No</td>\n",
              "      <td>No</td>\n",
              "      <td>No</td>\n",
              "      <td>No</td>\n",
              "      <td>No</td>\n",
              "      <td>Month-to-month</td>\n",
              "      <td>No</td>\n",
              "      <td>Electronic check</td>\n",
              "      <td>Normal</td>\n",
              "    </tr>\n",
              "  </tbody>\n",
              "</table>\n",
              "</div>"
            ],
            "text/plain": [
              "   gender  SeniorCitizen  ...            PaymentMethod  Cliente\n",
              "0  Female              0  ...             Mailed check   Normal\n",
              "1  Female              0  ...             Mailed check  Premium\n",
              "2  Female              0  ...  Credit card (automatic)  Premium\n",
              "3  Female              0  ...             Mailed check  Premium\n",
              "4    Male              1  ...         Electronic check   Normal\n",
              "\n",
              "[5 rows x 18 columns]"
            ]
          },
          "metadata": {
            "tags": []
          },
          "execution_count": 3
        }
      ]
    },
    {
      "cell_type": "code",
      "metadata": {
        "colab": {
          "base_uri": "https://localhost:8080/"
        },
        "id": "0SAOslKl9cLB",
        "outputId": "fb6e135c-44fb-4dd5-a3b0-9d2c5bdacf6c"
      },
      "source": [
        "train.info()"
      ],
      "execution_count": 4,
      "outputs": [
        {
          "output_type": "stream",
          "text": [
            "<class 'pandas.core.frame.DataFrame'>\n",
            "RangeIndex: 2500 entries, 0 to 2499\n",
            "Data columns (total 18 columns):\n",
            " #   Column            Non-Null Count  Dtype \n",
            "---  ------            --------------  ----- \n",
            " 0   gender            2500 non-null   object\n",
            " 1   SeniorCitizen     2500 non-null   int64 \n",
            " 2   Partner           2500 non-null   object\n",
            " 3   Dependents        2500 non-null   object\n",
            " 4   tenure            2500 non-null   int64 \n",
            " 5   PhoneService      2500 non-null   object\n",
            " 6   MultipleLines     2500 non-null   object\n",
            " 7   InternetService   2500 non-null   object\n",
            " 8   OnlineSecurity    2500 non-null   object\n",
            " 9   OnlineBackup      2500 non-null   object\n",
            " 10  DeviceProtection  2500 non-null   object\n",
            " 11  TechSupport       2500 non-null   object\n",
            " 12  StreamingTV       2500 non-null   object\n",
            " 13  StreamingMovies   2500 non-null   object\n",
            " 14  Contract          2500 non-null   object\n",
            " 15  PaperlessBilling  2500 non-null   object\n",
            " 16  PaymentMethod     2500 non-null   object\n",
            " 17  Cliente           2500 non-null   object\n",
            "dtypes: int64(2), object(16)\n",
            "memory usage: 351.7+ KB\n"
          ],
          "name": "stdout"
        }
      ]
    },
    {
      "cell_type": "markdown",
      "metadata": {
        "id": "6WMW9Rb_9cLC"
      },
      "source": [
        "# Pré-processamento dos dados\n",
        "\n",
        "Aqui transformei as colunas categóricas em colunas numéricas."
      ]
    },
    {
      "cell_type": "code",
      "metadata": {
        "colab": {
          "base_uri": "https://localhost:8080/",
          "height": 224
        },
        "id": "TseA8NUs9cLE",
        "outputId": "02386938-aa4c-46e5-d6b9-5ed59f1469f1"
      },
      "source": [
        "from sklearn.preprocessing import LabelEncoder\n",
        "\n",
        "encoder=LabelEncoder()\n",
        "\n",
        "\n",
        "transform = train.dtypes[train.dtypes == 'object'].keys()\n",
        "for col in transform:\n",
        "    if col !=\"Cliente\":\n",
        "      train[col] = encoder.fit_transform(list(train[col].values.astype('str')))\n",
        "    \n",
        "\n",
        "\n",
        "dic_cliente = {'Normal':0,'Premium':1}\n",
        "train['ClienteId']=train['Cliente'].map(dic_cliente)\n",
        "\n",
        "train.head()"
      ],
      "execution_count": 5,
      "outputs": [
        {
          "output_type": "execute_result",
          "data": {
            "text/html": [
              "<div>\n",
              "<style scoped>\n",
              "    .dataframe tbody tr th:only-of-type {\n",
              "        vertical-align: middle;\n",
              "    }\n",
              "\n",
              "    .dataframe tbody tr th {\n",
              "        vertical-align: top;\n",
              "    }\n",
              "\n",
              "    .dataframe thead th {\n",
              "        text-align: right;\n",
              "    }\n",
              "</style>\n",
              "<table border=\"1\" class=\"dataframe\">\n",
              "  <thead>\n",
              "    <tr style=\"text-align: right;\">\n",
              "      <th></th>\n",
              "      <th>gender</th>\n",
              "      <th>SeniorCitizen</th>\n",
              "      <th>Partner</th>\n",
              "      <th>Dependents</th>\n",
              "      <th>tenure</th>\n",
              "      <th>PhoneService</th>\n",
              "      <th>MultipleLines</th>\n",
              "      <th>InternetService</th>\n",
              "      <th>OnlineSecurity</th>\n",
              "      <th>OnlineBackup</th>\n",
              "      <th>DeviceProtection</th>\n",
              "      <th>TechSupport</th>\n",
              "      <th>StreamingTV</th>\n",
              "      <th>StreamingMovies</th>\n",
              "      <th>Contract</th>\n",
              "      <th>PaperlessBilling</th>\n",
              "      <th>PaymentMethod</th>\n",
              "      <th>Cliente</th>\n",
              "      <th>ClienteId</th>\n",
              "    </tr>\n",
              "  </thead>\n",
              "  <tbody>\n",
              "    <tr>\n",
              "      <th>0</th>\n",
              "      <td>0</td>\n",
              "      <td>0</td>\n",
              "      <td>0</td>\n",
              "      <td>0</td>\n",
              "      <td>20</td>\n",
              "      <td>1</td>\n",
              "      <td>0</td>\n",
              "      <td>2</td>\n",
              "      <td>1</td>\n",
              "      <td>1</td>\n",
              "      <td>1</td>\n",
              "      <td>1</td>\n",
              "      <td>1</td>\n",
              "      <td>1</td>\n",
              "      <td>2</td>\n",
              "      <td>0</td>\n",
              "      <td>3</td>\n",
              "      <td>Normal</td>\n",
              "      <td>0</td>\n",
              "    </tr>\n",
              "    <tr>\n",
              "      <th>1</th>\n",
              "      <td>0</td>\n",
              "      <td>0</td>\n",
              "      <td>1</td>\n",
              "      <td>1</td>\n",
              "      <td>59</td>\n",
              "      <td>1</td>\n",
              "      <td>2</td>\n",
              "      <td>0</td>\n",
              "      <td>2</td>\n",
              "      <td>2</td>\n",
              "      <td>0</td>\n",
              "      <td>2</td>\n",
              "      <td>0</td>\n",
              "      <td>0</td>\n",
              "      <td>1</td>\n",
              "      <td>0</td>\n",
              "      <td>3</td>\n",
              "      <td>Premium</td>\n",
              "      <td>1</td>\n",
              "    </tr>\n",
              "    <tr>\n",
              "      <th>2</th>\n",
              "      <td>0</td>\n",
              "      <td>0</td>\n",
              "      <td>1</td>\n",
              "      <td>1</td>\n",
              "      <td>68</td>\n",
              "      <td>0</td>\n",
              "      <td>1</td>\n",
              "      <td>0</td>\n",
              "      <td>0</td>\n",
              "      <td>2</td>\n",
              "      <td>2</td>\n",
              "      <td>2</td>\n",
              "      <td>2</td>\n",
              "      <td>2</td>\n",
              "      <td>2</td>\n",
              "      <td>0</td>\n",
              "      <td>1</td>\n",
              "      <td>Premium</td>\n",
              "      <td>1</td>\n",
              "    </tr>\n",
              "    <tr>\n",
              "      <th>3</th>\n",
              "      <td>0</td>\n",
              "      <td>0</td>\n",
              "      <td>0</td>\n",
              "      <td>1</td>\n",
              "      <td>35</td>\n",
              "      <td>1</td>\n",
              "      <td>2</td>\n",
              "      <td>0</td>\n",
              "      <td>0</td>\n",
              "      <td>0</td>\n",
              "      <td>0</td>\n",
              "      <td>0</td>\n",
              "      <td>0</td>\n",
              "      <td>0</td>\n",
              "      <td>0</td>\n",
              "      <td>0</td>\n",
              "      <td>3</td>\n",
              "      <td>Premium</td>\n",
              "      <td>1</td>\n",
              "    </tr>\n",
              "    <tr>\n",
              "      <th>4</th>\n",
              "      <td>1</td>\n",
              "      <td>1</td>\n",
              "      <td>0</td>\n",
              "      <td>0</td>\n",
              "      <td>1</td>\n",
              "      <td>1</td>\n",
              "      <td>0</td>\n",
              "      <td>0</td>\n",
              "      <td>0</td>\n",
              "      <td>0</td>\n",
              "      <td>0</td>\n",
              "      <td>0</td>\n",
              "      <td>0</td>\n",
              "      <td>0</td>\n",
              "      <td>0</td>\n",
              "      <td>0</td>\n",
              "      <td>2</td>\n",
              "      <td>Normal</td>\n",
              "      <td>0</td>\n",
              "    </tr>\n",
              "  </tbody>\n",
              "</table>\n",
              "</div>"
            ],
            "text/plain": [
              "   gender  SeniorCitizen  Partner  ...  PaymentMethod  Cliente  ClienteId\n",
              "0       0              0        0  ...              3   Normal          0\n",
              "1       0              0        1  ...              3  Premium          1\n",
              "2       0              0        1  ...              1  Premium          1\n",
              "3       0              0        0  ...              3  Premium          1\n",
              "4       1              1        0  ...              2   Normal          0\n",
              "\n",
              "[5 rows x 19 columns]"
            ]
          },
          "metadata": {
            "tags": []
          },
          "execution_count": 5
        }
      ]
    },
    {
      "cell_type": "markdown",
      "metadata": {
        "id": "CySjINDe9cLG"
      },
      "source": [
        "# Machine Learning\n",
        "\n",
        "\n",
        "Separar o dataset \"train\" em dados de treino, teste e validação.\n",
        "\n",
        "\n",
        "O dataset dados_ml foi para treinar e avaliar o modelo, e no dataset validação irei utilzar o modelo escolhido para fazer as predições ates de realizar a submissão"
      ]
    },
    {
      "cell_type": "code",
      "metadata": {
        "id": "KtWfXt7T9cLH"
      },
      "source": [
        "dados_ml = train.iloc[:1999]\n",
        "dados_validacao=train.iloc[2000:]"
      ],
      "execution_count": 6,
      "outputs": []
    },
    {
      "cell_type": "code",
      "metadata": {
        "id": "BX1_ZRN39cLI"
      },
      "source": [
        "from sklearn.metrics import  roc_auc_score,roc_curve, classification_report,confusion_matrix,f1_score\n",
        "from sklearn import metrics\n",
        "from sklearn.model_selection import train_test_split,KFold"
      ],
      "execution_count": 7,
      "outputs": []
    },
    {
      "cell_type": "code",
      "metadata": {
        "id": "oc634Vgf9cLJ"
      },
      "source": [
        "X=dados_ml.drop(columns=['Cliente','ClienteId'],axis=1)\n",
        "y=dados_ml['ClienteId']\n",
        "\n",
        "X_treino, X_teste, Y_treino, Y_teste = train_test_split(X,y,shuffle=True,test_size=0.5,random_state=42)"
      ],
      "execution_count": 8,
      "outputs": []
    },
    {
      "cell_type": "markdown",
      "metadata": {
        "id": "EY8YraBr9cLM"
      },
      "source": [
        "# Benchmark"
      ]
    },
    {
      "cell_type": "code",
      "metadata": {
        "colab": {
          "base_uri": "https://localhost:8080/"
        },
        "id": "0fUpGvwG9cLO",
        "outputId": "69686715-5acc-4281-c869-82744e031a38"
      },
      "source": [
        "from sklearn.dummy import DummyClassifier\n",
        "\n",
        "dummy_clf = DummyClassifier(strategy=\"most_frequent\")\n",
        "dummy_clf.fit(X_treino, Y_treino)\n",
        "y_pred = dummy_clf.predict(X_teste)\n",
        "acuracia = dummy_clf.score(X_teste, Y_teste) * 100\n",
        "\n",
        "print('A acurácia do dummy mostfrequent foi %.2f%%' % acuracia)"
      ],
      "execution_count": 9,
      "outputs": [
        {
          "output_type": "stream",
          "text": [
            "A acurácia do dummy mostfrequent foi 52.60%\n"
          ],
          "name": "stdout"
        }
      ]
    },
    {
      "cell_type": "markdown",
      "metadata": {
        "id": "0jojWLeR9cLP"
      },
      "source": [
        "# Testando outros modelos"
      ]
    },
    {
      "cell_type": "code",
      "metadata": {
        "colab": {
          "base_uri": "https://localhost:8080/"
        },
        "id": "nKo_S66I9cLP",
        "outputId": "c15dd411-ae91-45ab-8100-926ef1c2b85f"
      },
      "source": [
        "import warnings\n",
        "warnings.filterwarnings(\"ignore\")\n",
        "\n",
        "from sklearn.linear_model import LogisticRegression\n",
        "from sklearn.naive_bayes import GaussianNB\n",
        "from sklearn.tree import DecisionTreeClassifier\n",
        "from sklearn.ensemble import RandomForestClassifier\n",
        "from xgboost import XGBClassifier\n",
        "\n",
        "\n",
        "\n",
        "from sklearn.model_selection import cross_val_score,KFold\n",
        "\n",
        "lista_classificacores = [ LogisticRegression(),\n",
        "                         GaussianNB(),\n",
        "                         DecisionTreeClassifier(),\n",
        "                         RandomForestClassifier(),\n",
        "                         XGBClassifier()]\n",
        "\n",
        "\n",
        "for clf in lista_classificacores:\n",
        "  print(clf.__class__.__name__)\n",
        "  cv=KFold(n_splits=10, random_state=0, shuffle=True)\n",
        "  clf.fit(X_treino, Y_treino)\n",
        "  train_acc = clf.score(X_treino, Y_treino)\n",
        "  val_score = cross_val_score(clf, X_treino, Y_treino, cv=cv)\n",
        "  test_acc = clf.score(X_teste, Y_teste)\n",
        "  print('Treino:', train_acc)\n",
        "  print('Validation score', val_score.mean())\n",
        "  print('Teste:', test_acc)\n",
        "\n",
        "  print('F1 Score')\n",
        "\n",
        "  y_pred_treino = clf.predict(X_treino)\n",
        "  f1_treino = f1_score(Y_treino, y_pred_treino)\n",
        "  print('Treino', f1_treino)\n",
        "\n",
        "  y_pred_teste = clf.predict(X_teste)\n",
        "  f1_teste = f1_score(Y_teste,y_pred_teste)\n",
        "  print('Test', f1_teste)\n",
        "  print('='*80)"
      ],
      "execution_count": 10,
      "outputs": [
        {
          "output_type": "stream",
          "text": [
            "LogisticRegression\n",
            "Treino: 0.9059059059059059\n",
            "Validation score 0.8948787878787879\n",
            "Teste: 0.899\n",
            "F1 Score\n",
            "Treino 0.8896713615023473\n",
            "Test 0.8910463861920173\n",
            "================================================================================\n",
            "GaussianNB\n",
            "Treino: 0.8958958958958959\n",
            "Validation score 0.89089898989899\n",
            "Teste: 0.897\n",
            "F1 Score\n",
            "Treino 0.8767772511848341\n",
            "Test 0.8884073672806065\n",
            "================================================================================\n",
            "DecisionTreeClassifier\n",
            "Treino: 1.0\n",
            "Validation score 0.9719696969696969\n",
            "Teste: 0.957\n",
            "F1 Score\n",
            "Treino 1.0\n",
            "Test 0.9544973544973545\n",
            "================================================================================\n",
            "RandomForestClassifier\n",
            "Treino: 1.0\n",
            "Validation score 0.9759696969696968\n",
            "Teste: 0.966\n",
            "F1 Score\n",
            "Treino 1.0\n",
            "Test 0.9639830508474577\n",
            "================================================================================\n",
            "XGBClassifier\n",
            "Treino: 1.0\n",
            "Validation score 0.977959595959596\n",
            "Teste: 0.975\n",
            "F1 Score\n",
            "Treino 1.0\n",
            "Test 0.9735449735449736\n",
            "================================================================================\n"
          ],
          "name": "stdout"
        }
      ]
    },
    {
      "cell_type": "markdown",
      "metadata": {
        "id": "nUu_uBgh9cLR"
      },
      "source": [
        "# Ajustando o XGBClassifier"
      ]
    },
    {
      "cell_type": "code",
      "metadata": {
        "id": "tcqrpA8R9cLR"
      },
      "source": [
        "import xgboost as xgb"
      ],
      "execution_count": 11,
      "outputs": []
    },
    {
      "cell_type": "code",
      "metadata": {
        "colab": {
          "base_uri": "https://localhost:8080/"
        },
        "id": "HfON2jat9cLS",
        "outputId": "0cfbf622-4f0c-4fbb-88a1-3893da536de6"
      },
      "source": [
        "kf = KFold(n_splits=10,random_state=0,shuffle=True)\n",
        "\n",
        "X=dados_ml.drop(columns=['Cliente','ClienteId'],axis=1)\n",
        "y=dados_ml['ClienteId']\n",
        "\n",
        "\n",
        "\n",
        "# f1_lista=[]\n",
        "for i,(tr,ts) in enumerate(kf.split(X)):\n",
        "    Xtr, ytr = X.iloc[tr], y.iloc[tr]\n",
        "    Xval, yval = X.iloc[ts], y.iloc[ts]\n",
        "    \n",
        "    clf = xgb.XGBClassifier(seed=42)\n",
        "    clf.fit(Xtr,ytr)\n",
        "    \n",
        "    y_pred=clf.predict(Xval)\n",
        "\n",
        "    # f1_score = f1_score(yval,y_pred)\n",
        "    # f1_lista.append(f1_score)\n",
        "    print('Fold: {}'.format(i))\n",
        "    print('-'*60)\n",
        "    print(classification_report(yval, y_pred))\n",
        "    print('='*60)\n",
        "     \n"
      ],
      "execution_count": 26,
      "outputs": [
        {
          "output_type": "stream",
          "text": [
            "Fold: 0\n",
            "------------------------------------------------------------\n",
            "              precision    recall  f1-score   support\n",
            "\n",
            "           0       0.97      0.99      0.98        92\n",
            "           1       0.99      0.97      0.98       108\n",
            "\n",
            "    accuracy                           0.98       200\n",
            "   macro avg       0.98      0.98      0.98       200\n",
            "weighted avg       0.98      0.98      0.98       200\n",
            "\n",
            "============================================================\n",
            "Fold: 1\n",
            "------------------------------------------------------------\n",
            "              precision    recall  f1-score   support\n",
            "\n",
            "           0       0.97      0.98      0.98       102\n",
            "           1       0.98      0.97      0.97        98\n",
            "\n",
            "    accuracy                           0.97       200\n",
            "   macro avg       0.98      0.97      0.97       200\n",
            "weighted avg       0.98      0.97      0.97       200\n",
            "\n",
            "============================================================\n",
            "Fold: 2\n",
            "------------------------------------------------------------\n",
            "              precision    recall  f1-score   support\n",
            "\n",
            "           0       0.99      0.99      0.99       113\n",
            "           1       0.99      0.99      0.99        87\n",
            "\n",
            "    accuracy                           0.99       200\n",
            "   macro avg       0.99      0.99      0.99       200\n",
            "weighted avg       0.99      0.99      0.99       200\n",
            "\n",
            "============================================================\n",
            "Fold: 3\n",
            "------------------------------------------------------------\n",
            "              precision    recall  f1-score   support\n",
            "\n",
            "           0       0.99      1.00      1.00       109\n",
            "           1       1.00      0.99      0.99        91\n",
            "\n",
            "    accuracy                           0.99       200\n",
            "   macro avg       1.00      0.99      0.99       200\n",
            "weighted avg       1.00      0.99      0.99       200\n",
            "\n",
            "============================================================\n",
            "Fold: 4\n",
            "------------------------------------------------------------\n",
            "              precision    recall  f1-score   support\n",
            "\n",
            "           0       0.98      0.97      0.98       118\n",
            "           1       0.96      0.98      0.97        82\n",
            "\n",
            "    accuracy                           0.97       200\n",
            "   macro avg       0.97      0.98      0.97       200\n",
            "weighted avg       0.98      0.97      0.98       200\n",
            "\n",
            "============================================================\n",
            "Fold: 5\n",
            "------------------------------------------------------------\n",
            "              precision    recall  f1-score   support\n",
            "\n",
            "           0       0.98      0.99      0.99       108\n",
            "           1       0.99      0.98      0.98        92\n",
            "\n",
            "    accuracy                           0.98       200\n",
            "   macro avg       0.99      0.98      0.98       200\n",
            "weighted avg       0.99      0.98      0.98       200\n",
            "\n",
            "============================================================\n",
            "Fold: 6\n",
            "------------------------------------------------------------\n",
            "              precision    recall  f1-score   support\n",
            "\n",
            "           0       1.00      0.99      1.00       123\n",
            "           1       0.99      1.00      0.99        77\n",
            "\n",
            "    accuracy                           0.99       200\n",
            "   macro avg       0.99      1.00      0.99       200\n",
            "weighted avg       1.00      0.99      1.00       200\n",
            "\n",
            "============================================================\n",
            "Fold: 7\n",
            "------------------------------------------------------------\n",
            "              precision    recall  f1-score   support\n",
            "\n",
            "           0       1.00      0.97      0.99       111\n",
            "           1       0.97      1.00      0.98        89\n",
            "\n",
            "    accuracy                           0.98       200\n",
            "   macro avg       0.98      0.99      0.98       200\n",
            "weighted avg       0.99      0.98      0.99       200\n",
            "\n",
            "============================================================\n",
            "Fold: 8\n",
            "------------------------------------------------------------\n",
            "              precision    recall  f1-score   support\n",
            "\n",
            "           0       0.97      0.99      0.98        98\n",
            "           1       0.99      0.97      0.98       102\n",
            "\n",
            "    accuracy                           0.98       200\n",
            "   macro avg       0.98      0.98      0.98       200\n",
            "weighted avg       0.98      0.98      0.98       200\n",
            "\n",
            "============================================================\n",
            "Fold: 9\n",
            "------------------------------------------------------------\n",
            "              precision    recall  f1-score   support\n",
            "\n",
            "           0       1.00      0.98      0.99       120\n",
            "           1       0.98      1.00      0.99        79\n",
            "\n",
            "    accuracy                           0.99       199\n",
            "   macro avg       0.99      0.99      0.99       199\n",
            "weighted avg       0.99      0.99      0.99       199\n",
            "\n",
            "============================================================\n"
          ],
          "name": "stdout"
        }
      ]
    },
    {
      "cell_type": "code",
      "metadata": {
        "colab": {
          "base_uri": "https://localhost:8080/",
          "height": 313
        },
        "id": "BaBEogEY9cLU",
        "outputId": "64217462-f372-419e-b422-87234be79a43"
      },
      "source": [
        "cm=confusion_matrix(yval, y_pred)\n",
        "sns.heatmap(cm, annot=True, fmt='g')\n",
        "y_pred = clf.predict(Xval)\n",
        "acuracia = clf.score(Xval, yval) * 100\n",
        "\n",
        "print('A acurácia do XGBCLassifier foi %.2f%%' % acuracia)\n",
        "\n",
        "plt.xlabel('Predição( 1 ou 0)')\n",
        "plt.ylabel('Real ( 1 ou 0)')"
      ],
      "execution_count": 13,
      "outputs": [
        {
          "output_type": "stream",
          "text": [
            "A acurácia do XGBCLassifier foi 98.99%\n"
          ],
          "name": "stdout"
        },
        {
          "output_type": "execute_result",
          "data": {
            "text/plain": [
              "Text(33.0, 0.5, 'Real ( 1 ou 0)')"
            ]
          },
          "metadata": {
            "tags": []
          },
          "execution_count": 13
        },
        {
          "output_type": "display_data",
          "data": {
            "image/png": "[encoded data removed]",
            "text/plain": [
              "<Figure size 432x288 with 2 Axes>"
            ]
          },
          "metadata": {
            "tags": [],
            "needs_background": "light"
          }
        }
      ]
    },
    {
      "cell_type": "markdown",
      "metadata": {
        "id": "gJNrmg8mB5dD"
      },
      "source": [
        "# Fazendo predições para os dados de validação\n",
        "\n",
        "Neste tópico ajustei o modelo aos dados já treinados anteriormente(dados_ml) e fiz predições para os dados_validacao."
      ]
    },
    {
      "cell_type": "code",
      "metadata": {
        "colab": {
          "base_uri": "https://localhost:8080/",
          "height": 224
        },
        "id": "gptYAG2sB46n",
        "outputId": "c91fbd72-0aa1-4600-bad7-f42b75f19d31"
      },
      "source": [
        "dados_validacao.head()"
      ],
      "execution_count": 14,
      "outputs": [
        {
          "output_type": "execute_result",
          "data": {
            "text/html": [
              "<div>\n",
              "<style scoped>\n",
              "    .dataframe tbody tr th:only-of-type {\n",
              "        vertical-align: middle;\n",
              "    }\n",
              "\n",
              "    .dataframe tbody tr th {\n",
              "        vertical-align: top;\n",
              "    }\n",
              "\n",
              "    .dataframe thead th {\n",
              "        text-align: right;\n",
              "    }\n",
              "</style>\n",
              "<table border=\"1\" class=\"dataframe\">\n",
              "  <thead>\n",
              "    <tr style=\"text-align: right;\">\n",
              "      <th></th>\n",
              "      <th>gender</th>\n",
              "      <th>SeniorCitizen</th>\n",
              "      <th>Partner</th>\n",
              "      <th>Dependents</th>\n",
              "      <th>tenure</th>\n",
              "      <th>PhoneService</th>\n",
              "      <th>MultipleLines</th>\n",
              "      <th>InternetService</th>\n",
              "      <th>OnlineSecurity</th>\n",
              "      <th>OnlineBackup</th>\n",
              "      <th>DeviceProtection</th>\n",
              "      <th>TechSupport</th>\n",
              "      <th>StreamingTV</th>\n",
              "      <th>StreamingMovies</th>\n",
              "      <th>Contract</th>\n",
              "      <th>PaperlessBilling</th>\n",
              "      <th>PaymentMethod</th>\n",
              "      <th>Cliente</th>\n",
              "      <th>ClienteId</th>\n",
              "    </tr>\n",
              "  </thead>\n",
              "  <tbody>\n",
              "    <tr>\n",
              "      <th>2000</th>\n",
              "      <td>0</td>\n",
              "      <td>0</td>\n",
              "      <td>1</td>\n",
              "      <td>0</td>\n",
              "      <td>72</td>\n",
              "      <td>1</td>\n",
              "      <td>2</td>\n",
              "      <td>1</td>\n",
              "      <td>0</td>\n",
              "      <td>2</td>\n",
              "      <td>2</td>\n",
              "      <td>2</td>\n",
              "      <td>2</td>\n",
              "      <td>2</td>\n",
              "      <td>1</td>\n",
              "      <td>0</td>\n",
              "      <td>1</td>\n",
              "      <td>Premium</td>\n",
              "      <td>1</td>\n",
              "    </tr>\n",
              "    <tr>\n",
              "      <th>2001</th>\n",
              "      <td>1</td>\n",
              "      <td>0</td>\n",
              "      <td>1</td>\n",
              "      <td>1</td>\n",
              "      <td>4</td>\n",
              "      <td>1</td>\n",
              "      <td>0</td>\n",
              "      <td>0</td>\n",
              "      <td>0</td>\n",
              "      <td>0</td>\n",
              "      <td>0</td>\n",
              "      <td>2</td>\n",
              "      <td>0</td>\n",
              "      <td>2</td>\n",
              "      <td>0</td>\n",
              "      <td>0</td>\n",
              "      <td>1</td>\n",
              "      <td>Normal</td>\n",
              "      <td>0</td>\n",
              "    </tr>\n",
              "    <tr>\n",
              "      <th>2002</th>\n",
              "      <td>1</td>\n",
              "      <td>0</td>\n",
              "      <td>1</td>\n",
              "      <td>0</td>\n",
              "      <td>2</td>\n",
              "      <td>1</td>\n",
              "      <td>2</td>\n",
              "      <td>1</td>\n",
              "      <td>0</td>\n",
              "      <td>0</td>\n",
              "      <td>2</td>\n",
              "      <td>0</td>\n",
              "      <td>2</td>\n",
              "      <td>0</td>\n",
              "      <td>0</td>\n",
              "      <td>1</td>\n",
              "      <td>2</td>\n",
              "      <td>Normal</td>\n",
              "      <td>0</td>\n",
              "    </tr>\n",
              "    <tr>\n",
              "      <th>2003</th>\n",
              "      <td>1</td>\n",
              "      <td>0</td>\n",
              "      <td>1</td>\n",
              "      <td>1</td>\n",
              "      <td>55</td>\n",
              "      <td>1</td>\n",
              "      <td>0</td>\n",
              "      <td>2</td>\n",
              "      <td>1</td>\n",
              "      <td>1</td>\n",
              "      <td>1</td>\n",
              "      <td>1</td>\n",
              "      <td>1</td>\n",
              "      <td>1</td>\n",
              "      <td>1</td>\n",
              "      <td>0</td>\n",
              "      <td>3</td>\n",
              "      <td>Normal</td>\n",
              "      <td>0</td>\n",
              "    </tr>\n",
              "    <tr>\n",
              "      <th>2004</th>\n",
              "      <td>1</td>\n",
              "      <td>0</td>\n",
              "      <td>1</td>\n",
              "      <td>0</td>\n",
              "      <td>31</td>\n",
              "      <td>1</td>\n",
              "      <td>2</td>\n",
              "      <td>1</td>\n",
              "      <td>2</td>\n",
              "      <td>2</td>\n",
              "      <td>0</td>\n",
              "      <td>2</td>\n",
              "      <td>0</td>\n",
              "      <td>0</td>\n",
              "      <td>0</td>\n",
              "      <td>1</td>\n",
              "      <td>1</td>\n",
              "      <td>Premium</td>\n",
              "      <td>1</td>\n",
              "    </tr>\n",
              "  </tbody>\n",
              "</table>\n",
              "</div>"
            ],
            "text/plain": [
              "      gender  SeniorCitizen  Partner  ...  PaymentMethod  Cliente  ClienteId\n",
              "2000       0              0        1  ...              1  Premium          1\n",
              "2001       1              0        1  ...              1   Normal          0\n",
              "2002       1              0        1  ...              2   Normal          0\n",
              "2003       1              0        1  ...              3   Normal          0\n",
              "2004       1              0        1  ...              1  Premium          1\n",
              "\n",
              "[5 rows x 19 columns]"
            ]
          },
          "metadata": {
            "tags": []
          },
          "execution_count": 14
        }
      ]
    },
    {
      "cell_type": "code",
      "metadata": {
        "id": "1-gdYRzRC8Tf"
      },
      "source": [
        "X_val=dados_validacao.drop(columns=['Cliente','ClienteId'],axis=1)\n",
        "y_val=dados_validacao['ClienteId']"
      ],
      "execution_count": 15,
      "outputs": []
    },
    {
      "cell_type": "code",
      "metadata": {
        "colab": {
          "base_uri": "https://localhost:8080/"
        },
        "id": "XvHQ_orZCBYt",
        "outputId": "f214e5f7-0caa-4698-9cd2-215c1e0907c9"
      },
      "source": [
        "kf = KFold(n_splits=10,random_state=0,shuffle=True)\n",
        "\n",
        "X=dados_ml.drop(columns=['Cliente','ClienteId'],axis=1)\n",
        "y=dados_ml['ClienteId']\n",
        "\n",
        "clf.fit(X,y)\n",
        "    \n",
        "y_pred_validacao=clf.predict(X_val)\n",
        "\n",
        "\n",
        "print(classification_report(y_val, y_pred_validacao))"
      ],
      "execution_count": 16,
      "outputs": [
        {
          "output_type": "stream",
          "text": [
            "              precision    recall  f1-score   support\n",
            "\n",
            "           0       0.96      0.99      0.97       228\n",
            "           1       0.99      0.96      0.98       272\n",
            "\n",
            "    accuracy                           0.98       500\n",
            "   macro avg       0.98      0.98      0.98       500\n",
            "weighted avg       0.98      0.98      0.98       500\n",
            "\n"
          ],
          "name": "stdout"
        }
      ]
    },
    {
      "cell_type": "markdown",
      "metadata": {
        "id": "ItYpqqdJ9cLW"
      },
      "source": [
        "# Submission\n",
        "\n",
        "Predições para os dados de teste.\n",
        "\n",
        "Neste tópco foi ecesssário um pequeno pré-processamento dos dados para realizar as predições."
      ]
    },
    {
      "cell_type": "code",
      "metadata": {
        "colab": {
          "base_uri": "https://localhost:8080/",
          "height": 309
        },
        "id": "qZA09uVY9cLW",
        "outputId": "fe8521a2-25c5-41e4-d774-65866092537e"
      },
      "source": [
        "submission.head()"
      ],
      "execution_count": 17,
      "outputs": [
        {
          "output_type": "execute_result",
          "data": {
            "text/html": [
              "<div>\n",
              "<style scoped>\n",
              "    .dataframe tbody tr th:only-of-type {\n",
              "        vertical-align: middle;\n",
              "    }\n",
              "\n",
              "    .dataframe tbody tr th {\n",
              "        vertical-align: top;\n",
              "    }\n",
              "\n",
              "    .dataframe thead th {\n",
              "        text-align: right;\n",
              "    }\n",
              "</style>\n",
              "<table border=\"1\" class=\"dataframe\">\n",
              "  <thead>\n",
              "    <tr style=\"text-align: right;\">\n",
              "      <th></th>\n",
              "      <th>gender</th>\n",
              "      <th>SeniorCitizen</th>\n",
              "      <th>Partner</th>\n",
              "      <th>Dependents</th>\n",
              "      <th>tenure</th>\n",
              "      <th>PhoneService</th>\n",
              "      <th>MultipleLines</th>\n",
              "      <th>InternetService</th>\n",
              "      <th>OnlineSecurity</th>\n",
              "      <th>OnlineBackup</th>\n",
              "      <th>DeviceProtection</th>\n",
              "      <th>TechSupport</th>\n",
              "      <th>StreamingTV</th>\n",
              "      <th>StreamingMovies</th>\n",
              "      <th>Contract</th>\n",
              "      <th>PaperlessBilling</th>\n",
              "      <th>PaymentMethod</th>\n",
              "    </tr>\n",
              "  </thead>\n",
              "  <tbody>\n",
              "    <tr>\n",
              "      <th>0</th>\n",
              "      <td>Female</td>\n",
              "      <td>0</td>\n",
              "      <td>Yes</td>\n",
              "      <td>Yes</td>\n",
              "      <td>23</td>\n",
              "      <td>Yes</td>\n",
              "      <td>No</td>\n",
              "      <td>No</td>\n",
              "      <td>No internet service</td>\n",
              "      <td>No internet service</td>\n",
              "      <td>No internet service</td>\n",
              "      <td>No internet service</td>\n",
              "      <td>No internet service</td>\n",
              "      <td>No internet service</td>\n",
              "      <td>One year</td>\n",
              "      <td>No</td>\n",
              "      <td>Mailed check</td>\n",
              "    </tr>\n",
              "    <tr>\n",
              "      <th>1</th>\n",
              "      <td>Female</td>\n",
              "      <td>0</td>\n",
              "      <td>No</td>\n",
              "      <td>No</td>\n",
              "      <td>27</td>\n",
              "      <td>Yes</td>\n",
              "      <td>No</td>\n",
              "      <td>DSL</td>\n",
              "      <td>Yes</td>\n",
              "      <td>Yes</td>\n",
              "      <td>No</td>\n",
              "      <td>No</td>\n",
              "      <td>No</td>\n",
              "      <td>No</td>\n",
              "      <td>Month-to-month</td>\n",
              "      <td>Yes</td>\n",
              "      <td>Mailed check</td>\n",
              "    </tr>\n",
              "    <tr>\n",
              "      <th>2</th>\n",
              "      <td>Male</td>\n",
              "      <td>0</td>\n",
              "      <td>No</td>\n",
              "      <td>No</td>\n",
              "      <td>2</td>\n",
              "      <td>Yes</td>\n",
              "      <td>No</td>\n",
              "      <td>No</td>\n",
              "      <td>No internet service</td>\n",
              "      <td>No internet service</td>\n",
              "      <td>No internet service</td>\n",
              "      <td>No internet service</td>\n",
              "      <td>No internet service</td>\n",
              "      <td>No internet service</td>\n",
              "      <td>Month-to-month</td>\n",
              "      <td>No</td>\n",
              "      <td>Mailed check</td>\n",
              "    </tr>\n",
              "    <tr>\n",
              "      <th>3</th>\n",
              "      <td>Female</td>\n",
              "      <td>0</td>\n",
              "      <td>No</td>\n",
              "      <td>No</td>\n",
              "      <td>48</td>\n",
              "      <td>Yes</td>\n",
              "      <td>No</td>\n",
              "      <td>Fiber optic</td>\n",
              "      <td>Yes</td>\n",
              "      <td>No</td>\n",
              "      <td>Yes</td>\n",
              "      <td>Yes</td>\n",
              "      <td>Yes</td>\n",
              "      <td>Yes</td>\n",
              "      <td>Two year</td>\n",
              "      <td>Yes</td>\n",
              "      <td>Credit card (automatic)</td>\n",
              "    </tr>\n",
              "    <tr>\n",
              "      <th>4</th>\n",
              "      <td>Male</td>\n",
              "      <td>0</td>\n",
              "      <td>Yes</td>\n",
              "      <td>No</td>\n",
              "      <td>71</td>\n",
              "      <td>Yes</td>\n",
              "      <td>No</td>\n",
              "      <td>Fiber optic</td>\n",
              "      <td>No</td>\n",
              "      <td>Yes</td>\n",
              "      <td>Yes</td>\n",
              "      <td>Yes</td>\n",
              "      <td>Yes</td>\n",
              "      <td>Yes</td>\n",
              "      <td>Two year</td>\n",
              "      <td>Yes</td>\n",
              "      <td>Electronic check</td>\n",
              "    </tr>\n",
              "  </tbody>\n",
              "</table>\n",
              "</div>"
            ],
            "text/plain": [
              "   gender  SeniorCitizen  ... PaperlessBilling            PaymentMethod\n",
              "0  Female              0  ...               No             Mailed check\n",
              "1  Female              0  ...              Yes             Mailed check\n",
              "2    Male              0  ...               No             Mailed check\n",
              "3  Female              0  ...              Yes  Credit card (automatic)\n",
              "4    Male              0  ...              Yes         Electronic check\n",
              "\n",
              "[5 rows x 17 columns]"
            ]
          },
          "metadata": {
            "tags": []
          },
          "execution_count": 17
        }
      ]
    },
    {
      "cell_type": "code",
      "metadata": {
        "colab": {
          "base_uri": "https://localhost:8080/"
        },
        "id": "okFi9TEFDqgg",
        "outputId": "347f0a46-b131-4ed6-da65-e5730bdc350d"
      },
      "source": [
        "submission.info()"
      ],
      "execution_count": 18,
      "outputs": [
        {
          "output_type": "stream",
          "text": [
            "<class 'pandas.core.frame.DataFrame'>\n",
            "RangeIndex: 2500 entries, 0 to 2499\n",
            "Data columns (total 17 columns):\n",
            " #   Column            Non-Null Count  Dtype \n",
            "---  ------            --------------  ----- \n",
            " 0   gender            2500 non-null   object\n",
            " 1   SeniorCitizen     2500 non-null   int64 \n",
            " 2   Partner           2500 non-null   object\n",
            " 3   Dependents        2500 non-null   object\n",
            " 4   tenure            2500 non-null   int64 \n",
            " 5   PhoneService      2500 non-null   object\n",
            " 6   MultipleLines     2500 non-null   object\n",
            " 7   InternetService   2500 non-null   object\n",
            " 8   OnlineSecurity    2500 non-null   object\n",
            " 9   OnlineBackup      2500 non-null   object\n",
            " 10  DeviceProtection  2500 non-null   object\n",
            " 11  TechSupport       2500 non-null   object\n",
            " 12  StreamingTV       2500 non-null   object\n",
            " 13  StreamingMovies   2500 non-null   object\n",
            " 14  Contract          2500 non-null   object\n",
            " 15  PaperlessBilling  2500 non-null   object\n",
            " 16  PaymentMethod     2500 non-null   object\n",
            "dtypes: int64(2), object(15)\n",
            "memory usage: 332.2+ KB\n"
          ],
          "name": "stdout"
        }
      ]
    },
    {
      "cell_type": "code",
      "metadata": {
        "colab": {
          "base_uri": "https://localhost:8080/",
          "height": 224
        },
        "id": "JHTXs3XcGTqA",
        "outputId": "8f6217ba-ec2b-41a5-a181-42826f10ff0b"
      },
      "source": [
        "transform_2 = submission.dtypes[submission.dtypes == 'object'].keys()\n",
        "for col in transform_2:\n",
        "  submission[col] = encoder.fit_transform(list(submission[col].values.astype('str')))\n",
        "    \n",
        "\n",
        "submission.head()"
      ],
      "execution_count": 19,
      "outputs": [
        {
          "output_type": "execute_result",
          "data": {
            "text/html": [
              "<div>\n",
              "<style scoped>\n",
              "    .dataframe tbody tr th:only-of-type {\n",
              "        vertical-align: middle;\n",
              "    }\n",
              "\n",
              "    .dataframe tbody tr th {\n",
              "        vertical-align: top;\n",
              "    }\n",
              "\n",
              "    .dataframe thead th {\n",
              "        text-align: right;\n",
              "    }\n",
              "</style>\n",
              "<table border=\"1\" class=\"dataframe\">\n",
              "  <thead>\n",
              "    <tr style=\"text-align: right;\">\n",
              "      <th></th>\n",
              "      <th>gender</th>\n",
              "      <th>SeniorCitizen</th>\n",
              "      <th>Partner</th>\n",
              "      <th>Dependents</th>\n",
              "      <th>tenure</th>\n",
              "      <th>PhoneService</th>\n",
              "      <th>MultipleLines</th>\n",
              "      <th>InternetService</th>\n",
              "      <th>OnlineSecurity</th>\n",
              "      <th>OnlineBackup</th>\n",
              "      <th>DeviceProtection</th>\n",
              "      <th>TechSupport</th>\n",
              "      <th>StreamingTV</th>\n",
              "      <th>StreamingMovies</th>\n",
              "      <th>Contract</th>\n",
              "      <th>PaperlessBilling</th>\n",
              "      <th>PaymentMethod</th>\n",
              "    </tr>\n",
              "  </thead>\n",
              "  <tbody>\n",
              "    <tr>\n",
              "      <th>0</th>\n",
              "      <td>0</td>\n",
              "      <td>0</td>\n",
              "      <td>1</td>\n",
              "      <td>1</td>\n",
              "      <td>23</td>\n",
              "      <td>1</td>\n",
              "      <td>0</td>\n",
              "      <td>2</td>\n",
              "      <td>1</td>\n",
              "      <td>1</td>\n",
              "      <td>1</td>\n",
              "      <td>1</td>\n",
              "      <td>1</td>\n",
              "      <td>1</td>\n",
              "      <td>1</td>\n",
              "      <td>0</td>\n",
              "      <td>3</td>\n",
              "    </tr>\n",
              "    <tr>\n",
              "      <th>1</th>\n",
              "      <td>0</td>\n",
              "      <td>0</td>\n",
              "      <td>0</td>\n",
              "      <td>0</td>\n",
              "      <td>27</td>\n",
              "      <td>1</td>\n",
              "      <td>0</td>\n",
              "      <td>0</td>\n",
              "      <td>2</td>\n",
              "      <td>2</td>\n",
              "      <td>0</td>\n",
              "      <td>0</td>\n",
              "      <td>0</td>\n",
              "      <td>0</td>\n",
              "      <td>0</td>\n",
              "      <td>1</td>\n",
              "      <td>3</td>\n",
              "    </tr>\n",
              "    <tr>\n",
              "      <th>2</th>\n",
              "      <td>1</td>\n",
              "      <td>0</td>\n",
              "      <td>0</td>\n",
              "      <td>0</td>\n",
              "      <td>2</td>\n",
              "      <td>1</td>\n",
              "      <td>0</td>\n",
              "      <td>2</td>\n",
              "      <td>1</td>\n",
              "      <td>1</td>\n",
              "      <td>1</td>\n",
              "      <td>1</td>\n",
              "      <td>1</td>\n",
              "      <td>1</td>\n",
              "      <td>0</td>\n",
              "      <td>0</td>\n",
              "      <td>3</td>\n",
              "    </tr>\n",
              "    <tr>\n",
              "      <th>3</th>\n",
              "      <td>0</td>\n",
              "      <td>0</td>\n",
              "      <td>0</td>\n",
              "      <td>0</td>\n",
              "      <td>48</td>\n",
              "      <td>1</td>\n",
              "      <td>0</td>\n",
              "      <td>1</td>\n",
              "      <td>2</td>\n",
              "      <td>0</td>\n",
              "      <td>2</td>\n",
              "      <td>2</td>\n",
              "      <td>2</td>\n",
              "      <td>2</td>\n",
              "      <td>2</td>\n",
              "      <td>1</td>\n",
              "      <td>1</td>\n",
              "    </tr>\n",
              "    <tr>\n",
              "      <th>4</th>\n",
              "      <td>1</td>\n",
              "      <td>0</td>\n",
              "      <td>1</td>\n",
              "      <td>0</td>\n",
              "      <td>71</td>\n",
              "      <td>1</td>\n",
              "      <td>0</td>\n",
              "      <td>1</td>\n",
              "      <td>0</td>\n",
              "      <td>2</td>\n",
              "      <td>2</td>\n",
              "      <td>2</td>\n",
              "      <td>2</td>\n",
              "      <td>2</td>\n",
              "      <td>2</td>\n",
              "      <td>1</td>\n",
              "      <td>2</td>\n",
              "    </tr>\n",
              "  </tbody>\n",
              "</table>\n",
              "</div>"
            ],
            "text/plain": [
              "   gender  SeniorCitizen  Partner  ...  Contract  PaperlessBilling  PaymentMethod\n",
              "0       0              0        1  ...         1                 0              3\n",
              "1       0              0        0  ...         0                 1              3\n",
              "2       1              0        0  ...         0                 0              3\n",
              "3       0              0        0  ...         2                 1              1\n",
              "4       1              0        1  ...         2                 1              2\n",
              "\n",
              "[5 rows x 17 columns]"
            ]
          },
          "metadata": {
            "tags": []
          },
          "execution_count": 19
        }
      ]
    },
    {
      "cell_type": "code",
      "metadata": {
        "id": "OO6L8V5fGmHC"
      },
      "source": [
        "previsao=clf.predict(submission)\n",
        "\n",
        "subm = pd.DataFrame()\n",
        "subm['Cliente'] = previsao\n",
        "subm.to_csv('submissão_robert_ferro_01.csv', index = False)"
      ],
      "execution_count": 20,
      "outputs": []
    },
    {
      "cell_type": "code",
      "metadata": {
        "id": "N1Bup-ulZvPy"
      },
      "source": [
        ""
      ],
      "execution_count": 20,
      "outputs": []
    }
  ]
}